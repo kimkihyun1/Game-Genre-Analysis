{
  "cells": [
    {
      "cell_type": "markdown",
      "metadata": {
        "id": "view-in-github",
        "colab_type": "text"
      },
      "source": [
        "<a href=\"https://colab.research.google.com/github/kimkihyun1/Project1/blob/main/Part1.ipynb\" target=\"_parent\"><img src=\"https://colab.research.google.com/assets/colab-badge.svg\" alt=\"Open In Colab\"/></a>"
      ]
    },
    {
      "cell_type": "markdown",
      "id": "0ca59732",
      "metadata": {
        "id": "0ca59732"
      },
      "source": [
        "# 확인하세요!\n",
        "\n",
        "### 제출 전에 모든 코드가 순차적으로 잘 작동하는지 확인하세요. \n",
        "- **커널을 다시 시작**한 다음(메뉴바에서 Kernel$\\rightarrow$Restart 선택) **모든 셀을 실행**해 보세요(메뉴바에서 Cell$\\rightarrow$Run All 선택).\n",
        "\n",
        "### 지정 셀의 지정 영역에서만 코드를 작성했는지 확인하세요.\n",
        "- `YOUR CODE HERE`이 적혀 있는 셀에 대한 코드만 채점에 반영됩니다.\n",
        "- `YOUR CODE HERE` ~ `YOUR CODE ENDS HERE` 사이에 본인의 코드를 작성하세요.\n",
        "- 지정 셀 이외에 본인이 코드 실행 결과를 확인하기 위한 용도로 셀을 추가해도 됩니다.\n",
        "    - **제출 시 지정 셀에서는 정답 이외에 결과 확인을 위한 코드 등은 제거하고 제출해 주세요!**\n",
        "    - **기존 셀을 삭제하지 마세요! 채점에 불이익이 있을 수 있습니다.**\n",
        "\n",
        "### 제출 방법\n",
        "- 시간 내에 문제를 풀고, 본인의 github repo에 push 하세요.\n",
        "    - **디렉토리 구조가 변하면 안 됩니다.** `codestates/ds-sc2xx`와 디렉토리 구조가 동일해야 합니다. 답안 파일의 이름을 변경하지 않았는지, 기존에 없던 폴더가 추가되지 않았는지 등을 확인하세요.\n",
        "    - **코드스테이츠 가입 시 연동한 github 계정을 사용해야 합니다.**\n",
        "    - **branch를 변경하여 작업하지 마세요.**\n",
        "        - `master` branch에의 제출 사항에 대해서만 평가합니다.\n",
        "        - 본인의 github repo `master` branch에 제출이 잘 되어 있는지 확인하세요."
      ]
    },
    {
      "cell_type": "markdown",
      "id": "376caa55",
      "metadata": {
        "id": "376caa55"
      },
      "source": [
        "---"
      ]
    },
    {
      "cell_type": "markdown",
      "id": "6f4f7cc5",
      "metadata": {
        "deletable": false,
        "editable": false,
        "nbgrader": {
          "cell_type": "markdown",
          "checksum": "ad4f9cb1dfcf8bee5fc82797d7dd1f7b",
          "grade": false,
          "grade_id": "cell-5b7fa4769535997c",
          "locked": true,
          "schema_version": 3,
          "solution": false,
          "task": false
        },
        "id": "6f4f7cc5"
      },
      "source": [
        "# SC21x\n",
        " \n",
        "## 선형모델 (Linear Models)"
      ]
    },
    {
      "cell_type": "code",
      "execution_count": 1,
      "id": "cdad95b2",
      "metadata": {
        "deletable": false,
        "editable": false,
        "nbgrader": {
          "cell_type": "code",
          "checksum": "256ca1f00106703dba7ed3db798ffb44",
          "grade": false,
          "grade_id": "cell-ee764f0e965ac62a",
          "locked": true,
          "schema_version": 3,
          "solution": false,
          "task": false
        },
        "id": "cdad95b2",
        "colab": {
          "base_uri": "https://localhost:8080/"
        },
        "outputId": "38f553ce-8e63-4d01-aa4b-01a0b56ccb83"
      },
      "outputs": [
        {
          "output_type": "stream",
          "name": "stdout",
          "text": [
            "Looking in indexes: https://pypi.org/simple, https://us-python.pkg.dev/colab-wheels/public/simple/\n",
            "Collecting category_encoders==2.*\n",
            "  Downloading category_encoders-2.5.0-py2.py3-none-any.whl (69 kB)\n",
            "\u001b[K     |████████████████████████████████| 69 kB 3.0 MB/s \n",
            "\u001b[?25hRequirement already satisfied: numpy>=1.14.0 in /usr/local/lib/python3.7/dist-packages (from category_encoders==2.*) (1.21.6)\n",
            "Requirement already satisfied: scipy>=1.0.0 in /usr/local/lib/python3.7/dist-packages (from category_encoders==2.*) (1.4.1)\n",
            "Requirement already satisfied: patsy>=0.5.1 in /usr/local/lib/python3.7/dist-packages (from category_encoders==2.*) (0.5.2)\n",
            "Requirement already satisfied: statsmodels>=0.9.0 in /usr/local/lib/python3.7/dist-packages (from category_encoders==2.*) (0.10.2)\n",
            "Requirement already satisfied: pandas>=1.0.5 in /usr/local/lib/python3.7/dist-packages (from category_encoders==2.*) (1.3.5)\n",
            "Requirement already satisfied: scikit-learn>=0.20.0 in /usr/local/lib/python3.7/dist-packages (from category_encoders==2.*) (1.0.2)\n",
            "Requirement already satisfied: python-dateutil>=2.7.3 in /usr/local/lib/python3.7/dist-packages (from pandas>=1.0.5->category_encoders==2.*) (2.8.2)\n",
            "Requirement already satisfied: pytz>=2017.3 in /usr/local/lib/python3.7/dist-packages (from pandas>=1.0.5->category_encoders==2.*) (2022.1)\n",
            "Requirement already satisfied: six in /usr/local/lib/python3.7/dist-packages (from patsy>=0.5.1->category_encoders==2.*) (1.15.0)\n",
            "Requirement already satisfied: joblib>=0.11 in /usr/local/lib/python3.7/dist-packages (from scikit-learn>=0.20.0->category_encoders==2.*) (1.1.0)\n",
            "Requirement already satisfied: threadpoolctl>=2.0.0 in /usr/local/lib/python3.7/dist-packages (from scikit-learn>=0.20.0->category_encoders==2.*) (3.1.0)\n",
            "Installing collected packages: category-encoders\n",
            "Successfully installed category-encoders-2.5.0\n",
            "Looking in indexes: https://pypi.org/simple, https://us-python.pkg.dev/colab-wheels/public/simple/\n",
            "Collecting pandas-profiling==2.*\n",
            "  Downloading pandas_profiling-2.13.0-py2.py3-none-any.whl (245 kB)\n",
            "\u001b[K     |████████████████████████████████| 245 kB 4.6 MB/s \n",
            "\u001b[?25hRequirement already satisfied: scipy>=1.4.1 in /usr/local/lib/python3.7/dist-packages (from pandas-profiling==2.*) (1.4.1)\n",
            "Requirement already satisfied: jinja2>=2.11.1 in /usr/local/lib/python3.7/dist-packages (from pandas-profiling==2.*) (2.11.3)\n",
            "Requirement already satisfied: attrs>=19.3.0 in /usr/local/lib/python3.7/dist-packages (from pandas-profiling==2.*) (21.4.0)\n",
            "Requirement already satisfied: missingno>=0.4.2 in /usr/local/lib/python3.7/dist-packages (from pandas-profiling==2.*) (0.5.1)\n",
            "Requirement already satisfied: seaborn>=0.10.1 in /usr/local/lib/python3.7/dist-packages (from pandas-profiling==2.*) (0.11.2)\n",
            "Collecting visions[type_image_path]==0.7.1\n",
            "  Downloading visions-0.7.1-py3-none-any.whl (102 kB)\n",
            "\u001b[K     |████████████████████████████████| 102 kB 40.9 MB/s \n",
            "\u001b[?25hCollecting htmlmin>=0.1.12\n",
            "  Downloading htmlmin-0.1.12.tar.gz (19 kB)\n",
            "Collecting phik>=0.11.1\n",
            "  Downloading phik-0.12.2-cp37-cp37m-manylinux_2_17_x86_64.manylinux2014_x86_64.whl (690 kB)\n",
            "\u001b[K     |████████████████████████████████| 690 kB 18.5 MB/s \n",
            "\u001b[?25hCollecting confuse>=1.0.0\n",
            "  Downloading confuse-1.7.0-py2.py3-none-any.whl (25 kB)\n",
            "Requirement already satisfied: pandas!=1.0.0,!=1.0.1,!=1.0.2,!=1.1.0,>=0.25.3 in /usr/local/lib/python3.7/dist-packages (from pandas-profiling==2.*) (1.3.5)\n",
            "Requirement already satisfied: joblib in /usr/local/lib/python3.7/dist-packages (from pandas-profiling==2.*) (1.1.0)\n",
            "Collecting tangled-up-in-unicode>=0.0.6\n",
            "  Downloading tangled_up_in_unicode-0.2.0-py3-none-any.whl (4.7 MB)\n",
            "\u001b[K     |████████████████████████████████| 4.7 MB 34.3 MB/s \n",
            "\u001b[?25hRequirement already satisfied: matplotlib>=3.2.0 in /usr/local/lib/python3.7/dist-packages (from pandas-profiling==2.*) (3.2.2)\n",
            "Requirement already satisfied: numpy>=1.16.0 in /usr/local/lib/python3.7/dist-packages (from pandas-profiling==2.*) (1.21.6)\n",
            "Requirement already satisfied: tqdm>=4.48.2 in /usr/local/lib/python3.7/dist-packages (from pandas-profiling==2.*) (4.64.0)\n",
            "Collecting requests>=2.24.0\n",
            "  Downloading requests-2.28.1-py3-none-any.whl (62 kB)\n",
            "\u001b[K     |████████████████████████████████| 62 kB 1.4 MB/s \n",
            "\u001b[?25hCollecting bottleneck\n",
            "  Downloading Bottleneck-1.3.5-cp37-cp37m-manylinux_2_5_x86_64.manylinux1_x86_64.manylinux_2_17_x86_64.manylinux2014_x86_64.whl (355 kB)\n",
            "\u001b[K     |████████████████████████████████| 355 kB 40.3 MB/s \n",
            "\u001b[?25hRequirement already satisfied: networkx>=2.4 in /usr/local/lib/python3.7/dist-packages (from visions[type_image_path]==0.7.1->pandas-profiling==2.*) (2.6.3)\n",
            "Collecting multimethod==1.4\n",
            "  Downloading multimethod-1.4-py2.py3-none-any.whl (7.3 kB)\n",
            "Collecting imagehash\n",
            "  Downloading ImageHash-4.2.1.tar.gz (812 kB)\n",
            "\u001b[K     |████████████████████████████████| 812 kB 16.2 MB/s \n",
            "\u001b[?25hRequirement already satisfied: Pillow in /usr/local/lib/python3.7/dist-packages (from visions[type_image_path]==0.7.1->pandas-profiling==2.*) (7.1.2)\n",
            "Requirement already satisfied: pyyaml in /usr/local/lib/python3.7/dist-packages (from confuse>=1.0.0->pandas-profiling==2.*) (3.13)\n",
            "Requirement already satisfied: MarkupSafe>=0.23 in /usr/local/lib/python3.7/dist-packages (from jinja2>=2.11.1->pandas-profiling==2.*) (2.0.1)\n",
            "Requirement already satisfied: pyparsing!=2.0.4,!=2.1.2,!=2.1.6,>=2.0.1 in /usr/local/lib/python3.7/dist-packages (from matplotlib>=3.2.0->pandas-profiling==2.*) (3.0.9)\n",
            "Requirement already satisfied: kiwisolver>=1.0.1 in /usr/local/lib/python3.7/dist-packages (from matplotlib>=3.2.0->pandas-profiling==2.*) (1.4.3)\n",
            "Requirement already satisfied: cycler>=0.10 in /usr/local/lib/python3.7/dist-packages (from matplotlib>=3.2.0->pandas-profiling==2.*) (0.11.0)\n",
            "Requirement already satisfied: python-dateutil>=2.1 in /usr/local/lib/python3.7/dist-packages (from matplotlib>=3.2.0->pandas-profiling==2.*) (2.8.2)\n",
            "Requirement already satisfied: typing-extensions in /usr/local/lib/python3.7/dist-packages (from kiwisolver>=1.0.1->matplotlib>=3.2.0->pandas-profiling==2.*) (4.1.1)\n",
            "Requirement already satisfied: pytz>=2017.3 in /usr/local/lib/python3.7/dist-packages (from pandas!=1.0.0,!=1.0.1,!=1.0.2,!=1.1.0,>=0.25.3->pandas-profiling==2.*) (2022.1)\n",
            "Collecting scipy>=1.4.1\n",
            "  Downloading scipy-1.7.3-cp37-cp37m-manylinux_2_12_x86_64.manylinux2010_x86_64.whl (38.1 MB)\n",
            "\u001b[K     |████████████████████████████████| 38.1 MB 329 kB/s \n",
            "\u001b[?25hRequirement already satisfied: six>=1.5 in /usr/local/lib/python3.7/dist-packages (from python-dateutil>=2.1->matplotlib>=3.2.0->pandas-profiling==2.*) (1.15.0)\n",
            "Requirement already satisfied: certifi>=2017.4.17 in /usr/local/lib/python3.7/dist-packages (from requests>=2.24.0->pandas-profiling==2.*) (2022.6.15)\n",
            "Requirement already satisfied: charset-normalizer<3,>=2 in /usr/local/lib/python3.7/dist-packages (from requests>=2.24.0->pandas-profiling==2.*) (2.0.12)\n",
            "Requirement already satisfied: urllib3<1.27,>=1.21.1 in /usr/local/lib/python3.7/dist-packages (from requests>=2.24.0->pandas-profiling==2.*) (1.24.3)\n",
            "Requirement already satisfied: idna<4,>=2.5 in /usr/local/lib/python3.7/dist-packages (from requests>=2.24.0->pandas-profiling==2.*) (2.10)\n",
            "Requirement already satisfied: PyWavelets in /usr/local/lib/python3.7/dist-packages (from imagehash->visions[type_image_path]==0.7.1->pandas-profiling==2.*) (1.3.0)\n",
            "Building wheels for collected packages: htmlmin, imagehash\n",
            "  Building wheel for htmlmin (setup.py) ... \u001b[?25l\u001b[?25hdone\n",
            "  Created wheel for htmlmin: filename=htmlmin-0.1.12-py3-none-any.whl size=27098 sha256=31757003cf035b1d30d61c8f7b00deabb49564b7e2c98184ec33c1dd941622c7\n",
            "  Stored in directory: /root/.cache/pip/wheels/70/e1/52/5b14d250ba868768823940c3229e9950d201a26d0bd3ee8655\n",
            "  Building wheel for imagehash (setup.py) ... \u001b[?25l\u001b[?25hdone\n",
            "  Created wheel for imagehash: filename=ImageHash-4.2.1-py2.py3-none-any.whl size=295206 sha256=ee00be06e3d86c009d65278f717f98ca98e71db55e54dd7a02b2a6b0214e2ba1\n",
            "  Stored in directory: /root/.cache/pip/wheels/4c/d5/59/5e3e297533ddb09407769762985d134135064c6831e29a914e\n",
            "Successfully built htmlmin imagehash\n",
            "Installing collected packages: tangled-up-in-unicode, scipy, multimethod, bottleneck, visions, imagehash, requests, phik, htmlmin, confuse, pandas-profiling\n",
            "  Attempting uninstall: scipy\n",
            "    Found existing installation: scipy 1.4.1\n",
            "    Uninstalling scipy-1.4.1:\n",
            "      Successfully uninstalled scipy-1.4.1\n",
            "  Attempting uninstall: requests\n",
            "    Found existing installation: requests 2.23.0\n",
            "    Uninstalling requests-2.23.0:\n",
            "      Successfully uninstalled requests-2.23.0\n",
            "  Attempting uninstall: pandas-profiling\n",
            "    Found existing installation: pandas-profiling 1.4.1\n",
            "    Uninstalling pandas-profiling-1.4.1:\n",
            "      Successfully uninstalled pandas-profiling-1.4.1\n",
            "\u001b[31mERROR: pip's dependency resolver does not currently take into account all the packages that are installed. This behaviour is the source of the following dependency conflicts.\n",
            "google-colab 1.0.0 requires requests~=2.23.0, but you have requests 2.28.1 which is incompatible.\n",
            "datascience 0.10.6 requires folium==0.2.1, but you have folium 0.8.3 which is incompatible.\n",
            "albumentations 0.1.12 requires imgaug<0.2.7,>=0.2.5, but you have imgaug 0.2.9 which is incompatible.\u001b[0m\n",
            "Successfully installed bottleneck-1.3.5 confuse-1.7.0 htmlmin-0.1.12 imagehash-4.2.1 multimethod-1.4 pandas-profiling-2.13.0 phik-0.12.2 requests-2.28.1 scipy-1.7.3 tangled-up-in-unicode-0.2.0 visions-0.7.1\n",
            "Looking in indexes: https://pypi.org/simple, https://us-python.pkg.dev/colab-wheels/public/simple/\n",
            "Collecting plotly==4.*\n",
            "  Downloading plotly-4.14.3-py2.py3-none-any.whl (13.2 MB)\n",
            "\u001b[K     |████████████████████████████████| 13.2 MB 4.3 MB/s \n",
            "\u001b[?25hRequirement already satisfied: six in /usr/local/lib/python3.7/dist-packages (from plotly==4.*) (1.15.0)\n",
            "Collecting retrying>=1.3.3\n",
            "  Downloading retrying-1.3.3.tar.gz (10 kB)\n",
            "Building wheels for collected packages: retrying\n",
            "  Building wheel for retrying (setup.py) ... \u001b[?25l\u001b[?25hdone\n",
            "  Created wheel for retrying: filename=retrying-1.3.3-py3-none-any.whl size=11447 sha256=796a9f22019017803ab70043fdbc3127849e808a03fb8be677f932aa48ad383b\n",
            "  Stored in directory: /root/.cache/pip/wheels/f9/8d/8d/f6af3f7f9eea3553bc2fe6d53e4b287dad18b06a861ac56ddf\n",
            "Successfully built retrying\n",
            "Installing collected packages: retrying, plotly\n",
            "  Attempting uninstall: plotly\n",
            "    Found existing installation: plotly 5.5.0\n",
            "    Uninstalling plotly-5.5.0:\n",
            "      Successfully uninstalled plotly-5.5.0\n",
            "Successfully installed plotly-4.14.3 retrying-1.3.3\n"
          ]
        }
      ],
      "source": [
        "import sys\n",
        "import warnings\n",
        "\n",
        "if \"google.colab\" in sys.modules:\n",
        "    ## Colab에서 실행하는 경우 필요한 라이브러리를 미리 설치합니다.\n",
        "    !pip install category_encoders==2.*\n",
        "    !pip install pandas-profiling==2.*\n",
        "    !pip install plotly==4.*\n",
        "\n",
        "warnings.filterwarnings(\"ignore\")"
      ]
    },
    {
      "cell_type": "markdown",
      "id": "6b9c8083",
      "metadata": {
        "deletable": false,
        "editable": false,
        "nbgrader": {
          "cell_type": "markdown",
          "checksum": "cbe2b3dc06217b3b66899e2a2fdee4f0",
          "grade": false,
          "grade_id": "cell-f75742bcbc000238",
          "locked": true,
          "schema_version": 3,
          "solution": false,
          "task": false
        },
        "id": "6b9c8083"
      },
      "source": [
        "# Part 1 - 분류 (Classification): 헌혈 여부 예측하기 🚑\n",
        "Part 1에선 대만의 이동식 헌혈 차량 헌혈자들의 정보를 담은 데이터셋을 다룹니다. 대만의 수혈 서비스 센터 (The Blood Transfusion Service Center)는 이동식 차량으로 대학교들을 돌면서 헌혈 행사를 진행, 수혈을 위한 혈액을 기부 받습니다.\n",
        "\n",
        "Part 1의 목표는 각 헌혈자의 정보를 활용해서 **헌혈자가 2007년 3월에 헌혈을 했는지 여부**를 예측하는 것입니다. \n",
        "\n",
        "헌혈 여부 및 공급 요구를 추적하고 예측하는 좋은 데이터 기반 시스템은 공급망 전체를 개선하여 더 많은 환자가 필요한 수혈을 받도록 할 수 있습니다."
      ]
    },
    {
      "cell_type": "code",
      "execution_count": 2,
      "id": "d54640ac",
      "metadata": {
        "deletable": false,
        "editable": false,
        "nbgrader": {
          "cell_type": "code",
          "checksum": "46c1d6a3252b331253fa73052de7208e",
          "grade": false,
          "grade_id": "cell-a6344537ef769b2b",
          "locked": true,
          "schema_version": 3,
          "solution": false,
          "task": false
        },
        "id": "d54640ac"
      },
      "outputs": [],
      "source": [
        "# 분석에 필요한 라이브러리 및 데이터셋을 불러옵니다\n",
        "import pandas as pd\n",
        "\n",
        "donors = pd.read_csv(\n",
        "    \"https://archive.ics.uci.edu/ml/machine-learning-databases/blood-transfusion/transfusion.data\"\n",
        ")\n",
        "assert donors.shape == (748, 5)  # 데이터셋이 잘 로드 됐는지 확인하기 위해서 assert를 사용해 검증합니다.\n",
        "\n",
        "# 칼럼의 이름을 이해하기 쉽도록 변경합니다.\n",
        "donors = donors.rename(\n",
        "    columns={\n",
        "        \"Recency (months)\": \"months_since_last_donation\",\n",
        "        \"Frequency (times)\": \"number_of_donations\",\n",
        "        \"Monetary (c.c. blood)\": \"total_volume_donated\",\n",
        "        \"Time (months)\": \"months_since_first_donation\",\n",
        "        \"whether he/she donated blood in March 2007\": \"made_donation_in_march_2007\",\n",
        "    }\n",
        ")"
      ]
    },
    {
      "cell_type": "code",
      "execution_count": 3,
      "id": "bad2078f",
      "metadata": {
        "deletable": false,
        "editable": false,
        "nbgrader": {
          "cell_type": "code",
          "checksum": "76c77609caf9ac52251abf1e2e0c3729",
          "grade": false,
          "grade_id": "cell-1092b6b3101e970b",
          "locked": true,
          "schema_version": 3,
          "solution": false,
          "task": false
        },
        "id": "bad2078f",
        "colab": {
          "base_uri": "https://localhost:8080/",
          "height": 206
        },
        "outputId": "b6728b0e-8e20-4c4e-fb4f-b3b1908ff15e"
      },
      "outputs": [
        {
          "output_type": "execute_result",
          "data": {
            "text/plain": [
              "   months_since_last_donation  number_of_donations  total_volume_donated  \\\n",
              "0                           2                   50                 12500   \n",
              "1                           0                   13                  3250   \n",
              "2                           1                   16                  4000   \n",
              "3                           2                   20                  5000   \n",
              "4                           1                   24                  6000   \n",
              "\n",
              "   months_since_first_donation  made_donation_in_march_2007  \n",
              "0                           98                            1  \n",
              "1                           28                            1  \n",
              "2                           35                            1  \n",
              "3                           45                            1  \n",
              "4                           77                            0  "
            ],
            "text/html": [
              "\n",
              "  <div id=\"df-ae5e251a-2cfc-40aa-a572-18d9493dd02a\">\n",
              "    <div class=\"colab-df-container\">\n",
              "      <div>\n",
              "<style scoped>\n",
              "    .dataframe tbody tr th:only-of-type {\n",
              "        vertical-align: middle;\n",
              "    }\n",
              "\n",
              "    .dataframe tbody tr th {\n",
              "        vertical-align: top;\n",
              "    }\n",
              "\n",
              "    .dataframe thead th {\n",
              "        text-align: right;\n",
              "    }\n",
              "</style>\n",
              "<table border=\"1\" class=\"dataframe\">\n",
              "  <thead>\n",
              "    <tr style=\"text-align: right;\">\n",
              "      <th></th>\n",
              "      <th>months_since_last_donation</th>\n",
              "      <th>number_of_donations</th>\n",
              "      <th>total_volume_donated</th>\n",
              "      <th>months_since_first_donation</th>\n",
              "      <th>made_donation_in_march_2007</th>\n",
              "    </tr>\n",
              "  </thead>\n",
              "  <tbody>\n",
              "    <tr>\n",
              "      <th>0</th>\n",
              "      <td>2</td>\n",
              "      <td>50</td>\n",
              "      <td>12500</td>\n",
              "      <td>98</td>\n",
              "      <td>1</td>\n",
              "    </tr>\n",
              "    <tr>\n",
              "      <th>1</th>\n",
              "      <td>0</td>\n",
              "      <td>13</td>\n",
              "      <td>3250</td>\n",
              "      <td>28</td>\n",
              "      <td>1</td>\n",
              "    </tr>\n",
              "    <tr>\n",
              "      <th>2</th>\n",
              "      <td>1</td>\n",
              "      <td>16</td>\n",
              "      <td>4000</td>\n",
              "      <td>35</td>\n",
              "      <td>1</td>\n",
              "    </tr>\n",
              "    <tr>\n",
              "      <th>3</th>\n",
              "      <td>2</td>\n",
              "      <td>20</td>\n",
              "      <td>5000</td>\n",
              "      <td>45</td>\n",
              "      <td>1</td>\n",
              "    </tr>\n",
              "    <tr>\n",
              "      <th>4</th>\n",
              "      <td>1</td>\n",
              "      <td>24</td>\n",
              "      <td>6000</td>\n",
              "      <td>77</td>\n",
              "      <td>0</td>\n",
              "    </tr>\n",
              "  </tbody>\n",
              "</table>\n",
              "</div>\n",
              "      <button class=\"colab-df-convert\" onclick=\"convertToInteractive('df-ae5e251a-2cfc-40aa-a572-18d9493dd02a')\"\n",
              "              title=\"Convert this dataframe to an interactive table.\"\n",
              "              style=\"display:none;\">\n",
              "        \n",
              "  <svg xmlns=\"http://www.w3.org/2000/svg\" height=\"24px\"viewBox=\"0 0 24 24\"\n",
              "       width=\"24px\">\n",
              "    <path d=\"M0 0h24v24H0V0z\" fill=\"none\"/>\n",
              "    <path d=\"M18.56 5.44l.94 2.06.94-2.06 2.06-.94-2.06-.94-.94-2.06-.94 2.06-2.06.94zm-11 1L8.5 8.5l.94-2.06 2.06-.94-2.06-.94L8.5 2.5l-.94 2.06-2.06.94zm10 10l.94 2.06.94-2.06 2.06-.94-2.06-.94-.94-2.06-.94 2.06-2.06.94z\"/><path d=\"M17.41 7.96l-1.37-1.37c-.4-.4-.92-.59-1.43-.59-.52 0-1.04.2-1.43.59L10.3 9.45l-7.72 7.72c-.78.78-.78 2.05 0 2.83L4 21.41c.39.39.9.59 1.41.59.51 0 1.02-.2 1.41-.59l7.78-7.78 2.81-2.81c.8-.78.8-2.07 0-2.86zM5.41 20L4 18.59l7.72-7.72 1.47 1.35L5.41 20z\"/>\n",
              "  </svg>\n",
              "      </button>\n",
              "      \n",
              "  <style>\n",
              "    .colab-df-container {\n",
              "      display:flex;\n",
              "      flex-wrap:wrap;\n",
              "      gap: 12px;\n",
              "    }\n",
              "\n",
              "    .colab-df-convert {\n",
              "      background-color: #E8F0FE;\n",
              "      border: none;\n",
              "      border-radius: 50%;\n",
              "      cursor: pointer;\n",
              "      display: none;\n",
              "      fill: #1967D2;\n",
              "      height: 32px;\n",
              "      padding: 0 0 0 0;\n",
              "      width: 32px;\n",
              "    }\n",
              "\n",
              "    .colab-df-convert:hover {\n",
              "      background-color: #E2EBFA;\n",
              "      box-shadow: 0px 1px 2px rgba(60, 64, 67, 0.3), 0px 1px 3px 1px rgba(60, 64, 67, 0.15);\n",
              "      fill: #174EA6;\n",
              "    }\n",
              "\n",
              "    [theme=dark] .colab-df-convert {\n",
              "      background-color: #3B4455;\n",
              "      fill: #D2E3FC;\n",
              "    }\n",
              "\n",
              "    [theme=dark] .colab-df-convert:hover {\n",
              "      background-color: #434B5C;\n",
              "      box-shadow: 0px 1px 3px 1px rgba(0, 0, 0, 0.15);\n",
              "      filter: drop-shadow(0px 1px 2px rgba(0, 0, 0, 0.3));\n",
              "      fill: #FFFFFF;\n",
              "    }\n",
              "  </style>\n",
              "\n",
              "      <script>\n",
              "        const buttonEl =\n",
              "          document.querySelector('#df-ae5e251a-2cfc-40aa-a572-18d9493dd02a button.colab-df-convert');\n",
              "        buttonEl.style.display =\n",
              "          google.colab.kernel.accessAllowed ? 'block' : 'none';\n",
              "\n",
              "        async function convertToInteractive(key) {\n",
              "          const element = document.querySelector('#df-ae5e251a-2cfc-40aa-a572-18d9493dd02a');\n",
              "          const dataTable =\n",
              "            await google.colab.kernel.invokeFunction('convertToInteractive',\n",
              "                                                     [key], {});\n",
              "          if (!dataTable) return;\n",
              "\n",
              "          const docLinkHtml = 'Like what you see? Visit the ' +\n",
              "            '<a target=\"_blank\" href=https://colab.research.google.com/notebooks/data_table.ipynb>data table notebook</a>'\n",
              "            + ' to learn more about interactive tables.';\n",
              "          element.innerHTML = '';\n",
              "          dataTable['output_type'] = 'display_data';\n",
              "          await google.colab.output.renderOutput(dataTable, element);\n",
              "          const docLink = document.createElement('div');\n",
              "          docLink.innerHTML = docLinkHtml;\n",
              "          element.appendChild(docLink);\n",
              "        }\n",
              "      </script>\n",
              "    </div>\n",
              "  </div>\n",
              "  "
            ]
          },
          "metadata": {},
          "execution_count": 3
        }
      ],
      "source": [
        "donors.head()"
      ]
    },
    {
      "cell_type": "markdown",
      "id": "317a659c",
      "metadata": {
        "deletable": false,
        "editable": false,
        "nbgrader": {
          "cell_type": "markdown",
          "checksum": "5c75151bebc79f9531a7cbf76978ccd4",
          "grade": false,
          "grade_id": "cell-78b3370c9bae8d7c",
          "locked": true,
          "schema_version": 3,
          "solution": false,
          "task": false
        },
        "id": "317a659c"
      },
      "source": [
        "## 칼럼 설명:\n",
        "- **months_since_last_donation**: 마지막으로 헌혈을 한 후에 지난 개월수\n",
        "- **number_of_donations**: 헌혈 횟수\n",
        "- **total_volume_donated**: 기부한 혈액 총량\n",
        "- **months_since_first_donation**: 첫 헌혈을 한 후에 지난 개월수\n",
        "- **made_donation_in_march_2007**: 2007년 헌혈을 했는지 여부 (target)"
      ]
    },
    {
      "cell_type": "markdown",
      "id": "6ed640cc",
      "metadata": {
        "deletable": false,
        "editable": false,
        "nbgrader": {
          "cell_type": "markdown",
          "checksum": "89aa7e20d0b2e0a33b31198fd0c960ae",
          "grade": false,
          "grade_id": "cell-51cd2ed0e5d890ea",
          "locked": true,
          "schema_version": 3,
          "solution": false,
          "task": false
        },
        "id": "6ed640cc"
      },
      "source": [
        "데이터를 본다면 약 3/4에 해당하는 과반수가 2007년 3월에 헌혈을 하지 않았다는 것을 알 수 있습니다.  \n",
        "아래는 Baseline 모델의 정확도 점수 (accuracy score)를 나타낸 것입니다."
      ]
    },
    {
      "cell_type": "code",
      "execution_count": 4,
      "id": "c7943e57",
      "metadata": {
        "deletable": false,
        "editable": false,
        "nbgrader": {
          "cell_type": "code",
          "checksum": "19fdfbc66adb517612e5770e35b3d70e",
          "grade": false,
          "grade_id": "cell-5df3c4315bcf9f69",
          "locked": true,
          "schema_version": 3,
          "solution": false,
          "task": false
        },
        "id": "c7943e57",
        "colab": {
          "base_uri": "https://localhost:8080/"
        },
        "outputId": "4eed12b0-2f8a-4142-c677-40bc490f7711"
      },
      "outputs": [
        {
          "output_type": "execute_result",
          "data": {
            "text/plain": [
              "0    0.762032\n",
              "1    0.237968\n",
              "Name: made_donation_in_march_2007, dtype: float64"
            ]
          },
          "metadata": {},
          "execution_count": 4
        }
      ],
      "source": [
        "donors[\"made_donation_in_march_2007\"].value_counts(normalize=True)"
      ]
    },
    {
      "cell_type": "markdown",
      "id": "e6867684",
      "metadata": {
        "deletable": false,
        "editable": false,
        "nbgrader": {
          "cell_type": "markdown",
          "checksum": "ab56bc0f388a69ca827a47c0b6bd5202",
          "grade": false,
          "grade_id": "cell-0c9872d8d93b13ae",
          "locked": true,
          "schema_version": 3,
          "solution": false,
          "task": false
        },
        "id": "e6867684"
      },
      "source": [
        "## 1.1 데이터를 feature (X), label(y)로 분할하고 데이터를 train/test 셋으로 나누는 `divide_donors_data_and_split`함수를 작성하세요 (scikit-learn 활용).\n",
        "- donors dataframe을 독립변수 dataframe과 종속변수 series로 나눠 주세요\n",
        "  - 종속변수 외 나머지 변수는 모두 독립변수로 간주하세요\n",
        "- sklearn train_test_split 함수를 사용해 Train / Test 비율을 3:1로 나눠 주세요. random_state는 42를 사용하세요."
      ]
    },
    {
      "cell_type": "code",
      "execution_count": 14,
      "id": "9fd4bab4",
      "metadata": {
        "deletable": false,
        "nbgrader": {
          "cell_type": "code",
          "checksum": "fbd666eef846b24d77cd15cc51e958fa",
          "grade": false,
          "grade_id": "1-1",
          "locked": false,
          "schema_version": 3,
          "solution": true,
          "task": false
        },
        "id": "9fd4bab4"
      },
      "outputs": [],
      "source": [
        "from sklearn.model_selection import train_test_split\n",
        "\n",
        "\n",
        "def divide_donors_data_and_split(donors):\n",
        "    # YOUR CODE HERE\n",
        "    X = pd.DataFrame(donors[['months_since_last_donation','number_of_donations',\t'total_volume_donated',\t'months_since_first_donation']])\n",
        "    y = pd.Series(donors['made_donation_in_march_2007'])\n",
        "    X_train, X_test, y_train, y_test = train_test_split(X, y, test_size=0.25, random_state=42)\n",
        "\n",
        "    \n",
        "    # YOUR CODE ENDS HERE\n",
        "\n",
        "    return X_train, X_test, y_train, y_test"
      ]
    },
    {
      "cell_type": "code",
      "execution_count": 15,
      "id": "e3093d3d",
      "metadata": {
        "deletable": false,
        "editable": false,
        "nbgrader": {
          "cell_type": "code",
          "checksum": "5d6a00959ce02b13843619023d70cbf7",
          "grade": false,
          "grade_id": "cell-850e285340b0bf34",
          "locked": true,
          "schema_version": 3,
          "solution": false,
          "task": false
        },
        "id": "e3093d3d"
      },
      "outputs": [],
      "source": [
        "X_train, X_test, y_train, y_test = divide_donors_data_and_split(donors)"
      ]
    },
    {
      "cell_type": "code",
      "execution_count": 16,
      "id": "f9587b1e",
      "metadata": {
        "deletable": false,
        "editable": false,
        "nbgrader": {
          "cell_type": "code",
          "checksum": "7896b2f0099b4b60cd374ba0365d8bde",
          "grade": true,
          "grade_id": "1-1_test",
          "locked": true,
          "points": 0.5,
          "schema_version": 3,
          "solution": false,
          "task": false
        },
        "id": "f9587b1e",
        "colab": {
          "base_uri": "https://localhost:8080/"
        },
        "outputId": "233b7bf4-ad73-4577-ca4c-a5f7e03a06a2"
      },
      "outputs": [
        {
          "output_type": "stream",
          "name": "stdout",
          "text": [
            "(561, 4) (187, 4) (561,) (187,)\n"
          ]
        }
      ],
      "source": [
        "print(X_train.shape, X_test.shape, y_train.shape, y_test.shape)"
      ]
    },
    {
      "cell_type": "markdown",
      "id": "4b7abb2a",
      "metadata": {
        "deletable": false,
        "editable": false,
        "nbgrader": {
          "cell_type": "markdown",
          "checksum": "045c8a29b81d8e89e77eb492bb8310fa",
          "grade": false,
          "grade_id": "cell-379b9354bac4ee0b",
          "locked": true,
          "schema_version": 3,
          "solution": false,
          "task": false
        },
        "id": "4b7abb2a"
      },
      "source": [
        "## 1.2 Logistic regression 모델을 학습 (fit)하고 학습된 모델과 test accuracy를 반환하는 `fit_logistic_regression`함수를 작성하세요."
      ]
    },
    {
      "cell_type": "code",
      "execution_count": 17,
      "id": "0db6ee42",
      "metadata": {
        "deletable": false,
        "nbgrader": {
          "cell_type": "code",
          "checksum": "2b0ae08951492fa39f507f9c91ed94ff",
          "grade": false,
          "grade_id": "1-2",
          "locked": false,
          "schema_version": 3,
          "solution": true,
          "task": false
        },
        "id": "0db6ee42"
      },
      "outputs": [],
      "source": [
        "from sklearn.linear_model import LogisticRegression\n",
        "\n",
        "\n",
        "def fit_logistic_regression(X_train, X_test, y_train, y_test):\n",
        "    logistic = LogisticRegression()\n",
        "    test_accuracy = 0\n",
        "\n",
        "    # YOUR CODE HERE\n",
        "    logistic.fit(X_train, y_train)\n",
        "    test_accuracy = logistic.score(X_test, y_test)\n",
        "    \n",
        "    # YOUR CODE ENDS HERE\n",
        "\n",
        "    return logistic, test_accuracy"
      ]
    },
    {
      "cell_type": "code",
      "execution_count": 18,
      "id": "e90106c9",
      "metadata": {
        "deletable": false,
        "editable": false,
        "nbgrader": {
          "cell_type": "code",
          "checksum": "e87ebb01aa8672f5ac8b52931b1d15d6",
          "grade": false,
          "grade_id": "cell-accf06cfcbb064e9",
          "locked": true,
          "schema_version": 3,
          "solution": false,
          "task": false
        },
        "id": "e90106c9"
      },
      "outputs": [],
      "source": [
        "logistic, test_accuracy = fit_logistic_regression(X_train, X_test, y_train, y_test)"
      ]
    },
    {
      "cell_type": "markdown",
      "id": "90c22148",
      "metadata": {
        "deletable": false,
        "editable": false,
        "nbgrader": {
          "cell_type": "markdown",
          "checksum": "f4ad7f908ff4a0672225c4ec245bc2b1",
          "grade": false,
          "grade_id": "cell-061f9cf27e568eae",
          "locked": true,
          "schema_version": 3,
          "solution": false,
          "task": false
        },
        "id": "90c22148"
      },
      "source": [
        "## 1.3 분류 평가 지표 (classification metric) 확인: 정확도 (accuracy)\n",
        "- 아래 셀을 실행하여 테스트셋을 사용했을 때 분류 모델의 정확도(accuracy score)를 확인해 보세요.\n",
        "\n",
        "- 모델의 성능이 베이스라인보다 안좋더라도 걱정하지 마세요. \n",
        "  - accuracy 대신 recall을 평가 지표 (metric)로 사용할 경우에 우리가 만든 모델이 베이스라인을 뛰어넘을 수 있습니다. 알맞은 평가 지표를 고르고 해석하는 법은 앞으로 계속 다룰 예정입니다."
      ]
    },
    {
      "cell_type": "code",
      "execution_count": 19,
      "id": "e4dfa7fc",
      "metadata": {
        "deletable": false,
        "editable": false,
        "nbgrader": {
          "cell_type": "code",
          "checksum": "20de5aaa39347fe8400ac0174f2cc79d",
          "grade": true,
          "grade_id": "1-2_test",
          "locked": true,
          "points": 1.5,
          "schema_version": 3,
          "solution": false,
          "task": false
        },
        "id": "e4dfa7fc",
        "colab": {
          "base_uri": "https://localhost:8080/"
        },
        "outputId": "e5f5f954-b954-4f1e-ad84-642766f20384"
      },
      "outputs": [
        {
          "output_type": "stream",
          "name": "stdout",
          "text": [
            "Test accuracy: 0.7540106951871658\n"
          ]
        }
      ],
      "source": [
        "print(\"Test accuracy:\", test_accuracy)"
      ]
    },
    {
      "cell_type": "markdown",
      "id": "3a1759fa",
      "metadata": {
        "id": "3a1759fa"
      },
      "source": [
        "---"
      ]
    },
    {
      "cell_type": "markdown",
      "id": "b91ff15f",
      "metadata": {
        "id": "b91ff15f"
      },
      "source": [
        "# 수고하셨습니다!"
      ]
    }
  ],
  "metadata": {
    "kernelspec": {
      "display_name": "Python 3 (ipykernel)",
      "language": "python",
      "name": "python3"
    },
    "language_info": {
      "codemirror_mode": {
        "name": "ipython",
        "version": 3
      },
      "file_extension": ".py",
      "mimetype": "text/x-python",
      "name": "python",
      "nbconvert_exporter": "python",
      "pygments_lexer": "ipython3",
      "version": "3.8.9"
    },
    "colab": {
      "name": "Part1.ipynb",
      "provenance": [],
      "include_colab_link": true
    }
  },
  "nbformat": 4,
  "nbformat_minor": 5
}